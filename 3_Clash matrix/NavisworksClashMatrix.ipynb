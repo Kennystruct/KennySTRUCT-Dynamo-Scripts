{
 "cells": [
  {
   "cell_type": "code",
   "execution_count": null,
   "id": "bronze-prince",
   "metadata": {},
   "outputs": [],
   "source": [
    "# Importing the required packages\n",
    "import os\n",
    "import re\n",
    "import math\n",
    "import uuid\n",
    "import datetime as dt\n",
    "import pandas as pd\n",
    "import numpy as np\n",
    "import lxml.html as lh\n",
    "\n",
    "from lxml import etree as et\n",
    "from lxml.builder import E"
   ]
  },
  {
   "cell_type": "code",
   "execution_count": 8,
   "id": "technological-brass",
   "metadata": {},
   "outputs": [
    {
     "output_type": "error",
     "ename": "SyntaxError",
     "evalue": "(unicode error) 'unicodeescape' codec can't decode bytes in position 2-3: truncated \\UXXXXXXXX escape (<ipython-input-8-47c32c9c0789>, line 2)",
     "traceback": [
      "\u001b[1;36m  File \u001b[1;32m\"<ipython-input-8-47c32c9c0789>\"\u001b[1;36m, line \u001b[1;32m2\u001b[0m\n\u001b[1;33m    path = 'C:\\Users\\HP\\Desktop\\BIM Coding\\Navisworks_XML'\u001b[0m\n\u001b[1;37m           ^\u001b[0m\n\u001b[1;31mSyntaxError\u001b[0m\u001b[1;31m:\u001b[0m (unicode error) 'unicodeescape' codec can't decode bytes in position 2-3: truncated \\UXXXXXXXX escape\n"
     ]
    }
   ],
   "source": [
    "# Setting the current working directory\n",
    "path = 'C:\\Users\\HP\\Desktop\\BIM Coding\\Navisworks_XML'\n",
    "os.chdir(path)\n",
    "os.getcwd()"
   ]
  },
  {
   "cell_type": "code",
   "execution_count": 78,
   "id": "monetary-audit",
   "metadata": {},
   "outputs": [],
   "source": [
    "# The code below generates a string format of the current date and time.\n",
    "now = dt.datetime.now().strftime(\"%Y-%m-%d\") \n",
    "\n",
    "# Set .xml file name below. Change default name \"PK_Clash_Tests_Infra\" as required.\n",
    "# This is the .xml file that will be generated after all the code runs successfully.\n",
    "FILE_NAME = f\"{now}-Navisworks_Clash_full\""
   ]
  },
  {
   "cell_type": "code",
   "execution_count": 79,
   "id": "impressive-brake",
   "metadata": {},
   "outputs": [
    {
     "output_type": "execute_result",
     "data": {
      "text/plain": [
       "ARCHITECTURE                                                      ARCHITECTURE  \\\n",
       "Doors                                                                    Doors   \n",
       "36\" x 84\"                                                            72\" x 84\"   \n",
       "NaN                                                                        NaN   \n",
       "NaN NaN   72\" x 84\"                                          H-50          NaN   \n",
       "    Walls Exterior - Brick and CMU on MTL. Stud              H-50        H-200   \n",
       "          Exterior - Brick and CMU on MTL. Stud (No Parapet) H-50       H-1000   \n",
       "          Generic - 8\" Masonry                               H-50        H-400   \n",
       "          Interior - 6 1/8\" Partition (2-hr)                 H-50        H-400   \n",
       "\n",
       "ARCHITECTURE                                                                                             \\\n",
       "Doors                                                                                             Walls   \n",
       "36\" x 84\"                                                         Exterior - Brick and CMU on MTL. Stud   \n",
       "NaN                                                                                                 NaN   \n",
       "NaN NaN   72\" x 84\"                                          H-50                                   NaN   \n",
       "    Walls Exterior - Brick and CMU on MTL. Stud              H-50                                   NaN   \n",
       "          Exterior - Brick and CMU on MTL. Stud (No Parapet) H-50                                  H-50   \n",
       "          Generic - 8\" Masonry                               H-50                                  H-50   \n",
       "          Interior - 6 1/8\" Partition (2-hr)                 H-50                                  H-50   \n",
       "\n",
       "ARCHITECTURE                                                                                                          \\\n",
       "Doors                                                                                                                  \n",
       "36\" x 84\"                                                         Exterior - Brick and CMU on MTL. Stud (No Parapet)   \n",
       "NaN                                                                                                              NaN   \n",
       "NaN NaN   72\" x 84\"                                          H-50                                                NaN   \n",
       "    Walls Exterior - Brick and CMU on MTL. Stud              H-50                                                NaN   \n",
       "          Exterior - Brick and CMU on MTL. Stud (No Parapet) H-50                                                NaN   \n",
       "          Generic - 8\" Masonry                               H-50                                               H-50   \n",
       "          Interior - 6 1/8\" Partition (2-hr)                 H-50                                               H-50   \n",
       "\n",
       "ARCHITECTURE                                                                            \\\n",
       "Doors                                                                                    \n",
       "36\" x 84\"                                                         Generic - 8\" Masonry   \n",
       "NaN                                                                                NaN   \n",
       "NaN NaN   72\" x 84\"                                          H-50                  NaN   \n",
       "    Walls Exterior - Brick and CMU on MTL. Stud              H-50                C-200   \n",
       "          Exterior - Brick and CMU on MTL. Stud (No Parapet) H-50               C-1400   \n",
       "          Generic - 8\" Masonry                               H-50               C-1000   \n",
       "          Interior - 6 1/8\" Partition (2-hr)                 H-50               C-1000   \n",
       "\n",
       "ARCHITECTURE                                                                                          \\\n",
       "Doors                                                                                                  \n",
       "36\" x 84\"                                                         Interior - 6 1/8\" Partition (2-hr)   \n",
       "NaN                                                                                              NaN   \n",
       "NaN NaN   72\" x 84\"                                          H-50                                NaN   \n",
       "    Walls Exterior - Brick and CMU on MTL. Stud              H-50                              C-200   \n",
       "          Exterior - Brick and CMU on MTL. Stud (No Parapet) H-50                             C-2200   \n",
       "          Generic - 8\" Masonry                               H-50                              H-600   \n",
       "          Interior - 6 1/8\" Partition (2-hr)                 H-50                              H-600   \n",
       "\n",
       "ARCHITECTURE                                                                    \\\n",
       "Doors                                                                            \n",
       "36\" x 84\"                                                         18\" Concrete   \n",
       "NaN                                                                        NaN   \n",
       "NaN NaN   72\" x 84\"                                          H-50          NaN   \n",
       "    Walls Exterior - Brick and CMU on MTL. Stud              H-50        C-200   \n",
       "          Exterior - Brick and CMU on MTL. Stud (No Parapet) H-50       C-3000   \n",
       "          Generic - 8\" Masonry                               H-50        H-700   \n",
       "          Interior - 6 1/8\" Partition (2-hr)                 H-50        H-700   \n",
       "\n",
       "ARCHITECTURE                                                                     \\\n",
       "Doors                                                                             \n",
       "36\" x 84\"                                                         4 1/2” Soffit   \n",
       "NaN                                                                         NaN   \n",
       "NaN NaN   72\" x 84\"                                          H-50           NaN   \n",
       "    Walls Exterior - Brick and CMU on MTL. Stud              H-50         C-200   \n",
       "          Exterior - Brick and CMU on MTL. Stud (No Parapet) H-50        C-3800   \n",
       "          Generic - 8\" Masonry                               H-50         C-200   \n",
       "          Interior - 6 1/8\" Partition (2-hr)                 H-50         C-200   \n",
       "\n",
       "ARCHITECTURE                                                                      \\\n",
       "Doors                                                             Generic Models   \n",
       "36\" x 84\"                                                              84\" x 84\"   \n",
       "NaN                                                                        H-100   \n",
       "NaN NaN   72\" x 84\"                                          H-50          H-100   \n",
       "    Walls Exterior - Brick and CMU on MTL. Stud              H-50          H-100   \n",
       "          Exterior - Brick and CMU on MTL. Stud (No Parapet) H-50          H-100   \n",
       "          Generic - 8\" Masonry                               H-50          H-100   \n",
       "          Interior - 6 1/8\" Partition (2-hr)                 H-50          H-100   \n",
       "\n",
       "ARCHITECTURE                                                                    \\\n",
       "Doors                                                                            \n",
       "36\" x 84\"                                                         4'-0\" Length   \n",
       "NaN                                                                      H-100   \n",
       "NaN NaN   72\" x 84\"                                          H-50        H-100   \n",
       "    Walls Exterior - Brick and CMU on MTL. Stud              H-50        H-100   \n",
       "          Exterior - Brick and CMU on MTL. Stud (No Parapet) H-50        H-100   \n",
       "          Generic - 8\" Masonry                               H-50        H-100   \n",
       "          Interior - 6 1/8\" Partition (2-hr)                 H-50        H-100   \n",
       "\n",
       "ARCHITECTURE                                                               \\\n",
       "Doors                                                                       \n",
       "36\" x 84\"                                                         landing   \n",
       "NaN                                                                 H-100   \n",
       "NaN NaN   72\" x 84\"                                          H-50   H-100   \n",
       "    Walls Exterior - Brick and CMU on MTL. Stud              H-50   H-100   \n",
       "          Exterior - Brick and CMU on MTL. Stud (No Parapet) H-50   H-100   \n",
       "          Generic - 8\" Masonry                               H-50   H-100   \n",
       "          Interior - 6 1/8\" Partition (2-hr)                 H-50   H-100   \n",
       "\n",
       "ARCHITECTURE                                                                      \\\n",
       "Doors                                                                              \n",
       "36\" x 84\"                                                         with gooseneck   \n",
       "NaN                                                                        H-100   \n",
       "NaN NaN   72\" x 84\"                                          H-50          H-100   \n",
       "    Walls Exterior - Brick and CMU on MTL. Stud              H-50          H-100   \n",
       "          Exterior - Brick and CMU on MTL. Stud (No Parapet) H-50          H-100   \n",
       "          Generic - 8\" Masonry                               H-50          H-100   \n",
       "          Interior - 6 1/8\" Partition (2-hr)                 H-50          H-100   \n",
       "\n",
       "ARCHITECTURE                                                                            STRUCTURE  \\\n",
       "Doors                                                                                      Floors   \n",
       "36\" x 84\"                                                         6\" Slab on Grade with 1\" Finish   \n",
       "NaN                                                                                           NaN   \n",
       "NaN NaN   72\" x 84\"                                          H-50                             NaN   \n",
       "    Walls Exterior - Brick and CMU on MTL. Stud              H-50                           C-200   \n",
       "          Exterior - Brick and CMU on MTL. Stud (No Parapet) H-50                          C-4600   \n",
       "          Generic - 8\" Masonry                               H-50                           H-700   \n",
       "          Interior - 6 1/8\" Partition (2-hr)                 H-50                           H-700   \n",
       "\n",
       "ARCHITECTURE                                                                                    \\\n",
       "Doors                                                                                            \n",
       "36\" x 84\"                                                         6\" Concrete with 1\" Terrazzo   \n",
       "NaN                                                                                        NaN   \n",
       "NaN NaN   72\" x 84\"                                          H-50                          NaN   \n",
       "    Walls Exterior - Brick and CMU on MTL. Stud              H-50                        C-200   \n",
       "          Exterior - Brick and CMU on MTL. Stud (No Parapet) H-50                       C-5400   \n",
       "          Generic - 8\" Masonry                               H-50                        C-200   \n",
       "          Interior - 6 1/8\" Partition (2-hr)                 H-50                        C-200   \n",
       "\n",
       "ARCHITECTURE                                                                              \\\n",
       "Doors                                                                                      \n",
       "36\" x 84\"                                                         Exterior Concrete Slab   \n",
       "NaN                                                                                H-100   \n",
       "NaN NaN   72\" x 84\"                                          H-50                  H-100   \n",
       "    Walls Exterior - Brick and CMU on MTL. Stud              H-50                  H-100   \n",
       "          Exterior - Brick and CMU on MTL. Stud (No Parapet) H-50                  H-100   \n",
       "          Generic - 8\" Masonry                               H-50                  H-100   \n",
       "          Interior - 6 1/8\" Partition (2-hr)                 H-50                  H-100   \n",
       "\n",
       "ARCHITECTURE                                                                          \\\n",
       "Doors                                                             Structural Framing   \n",
       "36\" x 84\"                                                                     W14X30   \n",
       "NaN                                                                            H-100   \n",
       "NaN NaN   72\" x 84\"                                          H-50              H-100   \n",
       "    Walls Exterior - Brick and CMU on MTL. Stud              H-50              H-100   \n",
       "          Exterior - Brick and CMU on MTL. Stud (No Parapet) H-50              H-100   \n",
       "          Generic - 8\" Masonry                               H-50              H-100   \n",
       "          Interior - 6 1/8\" Partition (2-hr)                 H-50              H-100   \n",
       "\n",
       "ARCHITECTURE                                                              \\\n",
       "Doors                                                                      \n",
       "36\" x 84\"                                                         W12X26   \n",
       "NaN                                                                H-100   \n",
       "NaN NaN   72\" x 84\"                                          H-50  H-100   \n",
       "    Walls Exterior - Brick and CMU on MTL. Stud              H-50  H-100   \n",
       "          Exterior - Brick and CMU on MTL. Stud (No Parapet) H-50  H-100   \n",
       "          Generic - 8\" Masonry                               H-50  H-100   \n",
       "          Interior - 6 1/8\" Partition (2-hr)                 H-50  H-100   \n",
       "\n",
       "ARCHITECTURE                                                                          \n",
       "Doors                                                             Structural Columns  \n",
       "36\" x 84\"                                                                 HSS6X6X5/8  \n",
       "NaN                                                                            H-100  \n",
       "NaN NaN   72\" x 84\"                                          H-50              H-100  \n",
       "    Walls Exterior - Brick and CMU on MTL. Stud              H-50              H-100  \n",
       "          Exterior - Brick and CMU on MTL. Stud (No Parapet) H-50              H-100  \n",
       "          Generic - 8\" Masonry                               H-50              H-100  \n",
       "          Interior - 6 1/8\" Partition (2-hr)                 H-50              H-100  "
      ],
      "text/html": "<div>\n<style scoped>\n    .dataframe tbody tr th:only-of-type {\n        vertical-align: middle;\n    }\n\n    .dataframe tbody tr th {\n        vertical-align: top;\n    }\n\n    .dataframe thead tr th {\n        text-align: left;\n    }\n</style>\n<table border=\"1\" class=\"dataframe\">\n  <thead>\n    <tr>\n      <th></th>\n      <th></th>\n      <th></th>\n      <th>ARCHITECTURE</th>\n      <th colspan=\"11\" halign=\"left\">ARCHITECTURE</th>\n      <th colspan=\"6\" halign=\"left\">STRUCTURE</th>\n    </tr>\n    <tr>\n      <th></th>\n      <th></th>\n      <th></th>\n      <th>Doors</th>\n      <th>Doors</th>\n      <th colspan=\"6\" halign=\"left\">Walls</th>\n      <th colspan=\"4\" halign=\"left\">Generic Models</th>\n      <th colspan=\"3\" halign=\"left\">Floors</th>\n      <th colspan=\"2\" halign=\"left\">Structural Framing</th>\n      <th>Structural Columns</th>\n    </tr>\n    <tr>\n      <th></th>\n      <th></th>\n      <th></th>\n      <th>36\" x 84\"</th>\n      <th>72\" x 84\"</th>\n      <th>Exterior - Brick and CMU on MTL. Stud</th>\n      <th>Exterior - Brick and CMU on MTL. Stud (No Parapet)</th>\n      <th>Generic - 8\" Masonry</th>\n      <th>Interior - 6 1/8\" Partition (2-hr)</th>\n      <th>18\" Concrete</th>\n      <th>4 1/2” Soffit</th>\n      <th>84\" x 84\"</th>\n      <th>4'-0\" Length</th>\n      <th>landing</th>\n      <th>with gooseneck</th>\n      <th>6\" Slab on Grade with 1\" Finish</th>\n      <th>6\" Concrete with 1\" Terrazzo</th>\n      <th>Exterior Concrete Slab</th>\n      <th>W14X30</th>\n      <th>W12X26</th>\n      <th>HSS6X6X5/8</th>\n    </tr>\n    <tr>\n      <th></th>\n      <th></th>\n      <th></th>\n      <th>NaN</th>\n      <th>NaN</th>\n      <th>NaN</th>\n      <th>NaN</th>\n      <th>NaN</th>\n      <th>NaN</th>\n      <th>NaN</th>\n      <th>NaN</th>\n      <th>H-100</th>\n      <th>H-100</th>\n      <th>H-100</th>\n      <th>H-100</th>\n      <th>NaN</th>\n      <th>NaN</th>\n      <th>H-100</th>\n      <th>H-100</th>\n      <th>H-100</th>\n      <th>H-100</th>\n    </tr>\n  </thead>\n  <tbody>\n    <tr>\n      <th rowspan=\"5\" valign=\"top\">NaN</th>\n      <th>NaN</th>\n      <th>72\" x 84\"</th>\n      <th>H-50</th>\n      <td>NaN</td>\n      <td>NaN</td>\n      <td>NaN</td>\n      <td>NaN</td>\n      <td>NaN</td>\n      <td>NaN</td>\n      <td>NaN</td>\n      <td>H-100</td>\n      <td>H-100</td>\n      <td>H-100</td>\n      <td>H-100</td>\n      <td>NaN</td>\n      <td>NaN</td>\n      <td>H-100</td>\n      <td>H-100</td>\n      <td>H-100</td>\n      <td>H-100</td>\n    </tr>\n    <tr>\n      <th rowspan=\"4\" valign=\"top\">Walls</th>\n      <th>Exterior - Brick and CMU on MTL. Stud</th>\n      <th>H-50</th>\n      <td>H-200</td>\n      <td>NaN</td>\n      <td>NaN</td>\n      <td>C-200</td>\n      <td>C-200</td>\n      <td>C-200</td>\n      <td>C-200</td>\n      <td>H-100</td>\n      <td>H-100</td>\n      <td>H-100</td>\n      <td>H-100</td>\n      <td>C-200</td>\n      <td>C-200</td>\n      <td>H-100</td>\n      <td>H-100</td>\n      <td>H-100</td>\n      <td>H-100</td>\n    </tr>\n    <tr>\n      <th>Exterior - Brick and CMU on MTL. Stud (No Parapet)</th>\n      <th>H-50</th>\n      <td>H-1000</td>\n      <td>H-50</td>\n      <td>NaN</td>\n      <td>C-1400</td>\n      <td>C-2200</td>\n      <td>C-3000</td>\n      <td>C-3800</td>\n      <td>H-100</td>\n      <td>H-100</td>\n      <td>H-100</td>\n      <td>H-100</td>\n      <td>C-4600</td>\n      <td>C-5400</td>\n      <td>H-100</td>\n      <td>H-100</td>\n      <td>H-100</td>\n      <td>H-100</td>\n    </tr>\n    <tr>\n      <th>Generic - 8\" Masonry</th>\n      <th>H-50</th>\n      <td>H-400</td>\n      <td>H-50</td>\n      <td>H-50</td>\n      <td>C-1000</td>\n      <td>H-600</td>\n      <td>H-700</td>\n      <td>C-200</td>\n      <td>H-100</td>\n      <td>H-100</td>\n      <td>H-100</td>\n      <td>H-100</td>\n      <td>H-700</td>\n      <td>C-200</td>\n      <td>H-100</td>\n      <td>H-100</td>\n      <td>H-100</td>\n      <td>H-100</td>\n    </tr>\n    <tr>\n      <th>Interior - 6 1/8\" Partition (2-hr)</th>\n      <th>H-50</th>\n      <td>H-400</td>\n      <td>H-50</td>\n      <td>H-50</td>\n      <td>C-1000</td>\n      <td>H-600</td>\n      <td>H-700</td>\n      <td>C-200</td>\n      <td>H-100</td>\n      <td>H-100</td>\n      <td>H-100</td>\n      <td>H-100</td>\n      <td>H-700</td>\n      <td>C-200</td>\n      <td>H-100</td>\n      <td>H-100</td>\n      <td>H-100</td>\n      <td>H-100</td>\n    </tr>\n  </tbody>\n</table>\n</div>"
     },
     "metadata": {},
     "execution_count": 79
    }
   ],
   "source": [
    "# DataFrame from clash detection matrix\n",
    "cdm = pd.read_excel(\n",
    "    'Navisworks_Clash_Matrix_Checks.xlsx', \n",
    "    sheet_name=0, \n",
    "    index_col=[0,1,2,3], \n",
    "    header=[0,1,2,3]\n",
    ")\n",
    "\n",
    "cdm.head()"
   ]
  },
  {
   "cell_type": "code",
   "execution_count": null,
   "id": "smaller-estonia",
   "metadata": {},
   "outputs": [],
   "source": []
  },
  {
   "cell_type": "code",
   "execution_count": 80,
   "id": "manufactured-avenue",
   "metadata": {},
   "outputs": [
    {
     "output_type": "stream",
     "name": "stdout",
     "text": [
      "<class 'pandas.core.frame.DataFrame'>\nMultiIndex: 17 entries, (nan, nan, '72\" x 84\"', 'H-50') to ('STRUCTURE', 'Structural Columns', 'HSS6X6X5/8', 'H-50')\nData columns (total 17 columns):\n #   Column                                                                          Non-Null Count  Dtype \n---  ------                                                                          --------------  ----- \n 0   (ARCHITECTURE, Doors, 72\" x 84\", NaN)                                           16 non-null     object\n 1   (ARCHITECTURE, Walls, Exterior - Brick and CMU on MTL. Stud, NaN)               15 non-null     object\n 2   (ARCHITECTURE, Walls, Exterior - Brick and CMU on MTL. Stud (No Parapet), NaN)  14 non-null     object\n 3   (ARCHITECTURE, Walls, Generic - 8\" Masonry, NaN)                                16 non-null     object\n 4   (ARCHITECTURE, Walls, Interior - 6 1/8\" Partition (2-hr), NaN)                  16 non-null     object\n 5   (ARCHITECTURE, Walls, 18\" Concrete, NaN)                                        16 non-null     object\n 6   (ARCHITECTURE, Walls, 4 1/2” Soffit, NaN)                                       16 non-null     object\n 7   (ARCHITECTURE, Generic Models, 84\" x 84\", H-100)                                16 non-null     object\n 8   (ARCHITECTURE, Generic Models, 4'-0\" Length, H-100)                             12 non-null     object\n 9   (ARCHITECTURE, Generic Models, landing, H-100)                                  9 non-null      object\n 10  (ARCHITECTURE, Generic Models, with gooseneck, H-100)                           7 non-null      object\n 11  (STRUCTURE, Floors, 6\" Slab on Grade with 1\" Finish, NaN)                       16 non-null     object\n 12  (STRUCTURE, Floors, 6\" Concrete with 1\" Terrazzo, NaN)                          16 non-null     object\n 13  (STRUCTURE, Floors, Exterior Concrete Slab, H-100)                              16 non-null     object\n 14  (STRUCTURE, Structural Framing, W14X30, H-100)                                  16 non-null     object\n 15  (STRUCTURE, Structural Framing, W12X26, H-100)                                  12 non-null     object\n 16  (STRUCTURE, Structural Columns, HSS6X6X5/8, H-100)                              9 non-null      object\ndtypes: object(17)\nmemory usage: 1.8+ KB\n"
     ]
    }
   ],
   "source": [
    "cdm.info()\n",
    "\n",
    "# Number of rows\n",
    "# len(cdm.index)"
   ]
  },
  {
   "cell_type": "code",
   "execution_count": 81,
   "id": "civil-occupation",
   "metadata": {},
   "outputs": [],
   "source": [
    "cdm_val = cdm.values.tolist()  # list to store all the clash detection matrix values (except index and header)\n",
    "cdm_idx = cdm.index.to_list()  # list to store the clash detection matrix multi-index  \n",
    "\n",
    "clash_tests_names = []  # clash test names\n",
    "clash_tols_types = []  # clash tolerance and type (not split!)\n",
    "rgt_loc = []  # right locator\n",
    "lft_loc = []  # left locator\n",
    "\n",
    "for idx_r, row in enumerate(cdm_val):\n",
    "    for idx_c, clash_tol_type in enumerate(row):\n",
    "        if (clash_tol_type is not np.nan) and (type(clash_tol_type) is str):\n",
    "            clash_grp_c = cdm_idx[idx_c][2] # Clash group from column\n",
    "            clash_grp_r = cdm_idx[idx_r][2] # Clash group from row\n",
    "            clash_test = clash_grp_r + '_v_' + clash_grp_c\n",
    "            # Left locator construction\n",
    "            lft_con = f\"lcop_selection_set_tree/{cdm_idx[idx_r][0]}/{cdm_idx[idx_r][1]}-{clash_grp_r}\"\n",
    "            # Right locator construction\n",
    "            rgt_con = f\"lcop_selection_set_tree/{cdm_idx[idx_c][0]}/{cdm_idx[idx_c][1]}-{clash_grp_c}\"\n",
    "            # Appending to lists\n",
    "            clash_tests_names.append(clash_test)\n",
    "            clash_tols_types.append(clash_tol_type)\n",
    "            rgt_loc.append(rgt_con)\n",
    "            lft_loc.append(lft_con)\n",
    "            # print(f'Clash Group: {clash_grp_r}, Type & Tolerance: {clash_tols_types}, Clash Test: {clash_test}')\n",
    "        else:\n",
    "            pass"
   ]
  },
  {
   "cell_type": "code",
   "execution_count": 82,
   "id": "matched-montgomery",
   "metadata": {},
   "outputs": [],
   "source": [
    "clash_types = []  # clash type\n",
    "clash_tols = [(int(i[2:]) / 1000) for i in clash_tols_types]  # clash tolerance\n",
    "\n",
    "for i in clash_tols_types:\n",
    "    if i[0].lower() == 'c':\n",
    "        clash_types.append(\"clearance\")\n",
    "    elif i[0].lower() == 'h':\n",
    "        clash_types.append(\"hard\")\n",
    "    else:\n",
    "        pass"
   ]
  },
  {
   "cell_type": "code",
   "execution_count": 83,
   "id": "sixth-titanium",
   "metadata": {},
   "outputs": [],
   "source": [
    "# li = [row[???] for row in cdm.itertuples(index=False, name=None)]\n",
    "# alternative approach can be explored using pandas.DataFrame.itertuples\n",
    "# it would also include the use of enumerate(cdm.itertuples())"
   ]
  },
  {
   "cell_type": "code",
   "execution_count": 84,
   "id": "bored-lemon",
   "metadata": {},
   "outputs": [],
   "source": [
    "Element_category = [cdm_idx[idx][1] for idx, row in enumerate(cdm_idx)]  # Clash priority list\n",
    "Element_type = [cdm_idx[idx][2] for idx, row in enumerate(cdm_idx)]  # Clash group list\n",
    "disciplines = [cdm_idx[idx][0] for idx, row in enumerate(cdm_idx)]  # Discipline list"
   ]
  },
  {
   "cell_type": "code",
   "execution_count": 85,
   "id": "unlikely-penny",
   "metadata": {},
   "outputs": [
    {
     "output_type": "execute_result",
     "data": {
      "text/plain": [
       "  Element Category                                       Element Type  \\\n",
       "0              NaN                                          72\" x 84\"   \n",
       "1            Walls              Exterior - Brick and CMU on MTL. Stud   \n",
       "2            Walls  Exterior - Brick and CMU on MTL. Stud (No Para...   \n",
       "3            Walls                               Generic - 8\" Masonry   \n",
       "4            Walls                 Interior - 6 1/8\" Partition (2-hr)   \n",
       "\n",
       "  Discipline  \n",
       "0        NaN  \n",
       "1        NaN  \n",
       "2        NaN  \n",
       "3        NaN  \n",
       "4        NaN  "
      ],
      "text/html": "<div>\n<style scoped>\n    .dataframe tbody tr th:only-of-type {\n        vertical-align: middle;\n    }\n\n    .dataframe tbody tr th {\n        vertical-align: top;\n    }\n\n    .dataframe thead th {\n        text-align: right;\n    }\n</style>\n<table border=\"1\" class=\"dataframe\">\n  <thead>\n    <tr style=\"text-align: right;\">\n      <th></th>\n      <th>Element Category</th>\n      <th>Element Type</th>\n      <th>Discipline</th>\n    </tr>\n  </thead>\n  <tbody>\n    <tr>\n      <th>0</th>\n      <td>NaN</td>\n      <td>72\" x 84\"</td>\n      <td>NaN</td>\n    </tr>\n    <tr>\n      <th>1</th>\n      <td>Walls</td>\n      <td>Exterior - Brick and CMU on MTL. Stud</td>\n      <td>NaN</td>\n    </tr>\n    <tr>\n      <th>2</th>\n      <td>Walls</td>\n      <td>Exterior - Brick and CMU on MTL. Stud (No Para...</td>\n      <td>NaN</td>\n    </tr>\n    <tr>\n      <th>3</th>\n      <td>Walls</td>\n      <td>Generic - 8\" Masonry</td>\n      <td>NaN</td>\n    </tr>\n    <tr>\n      <th>4</th>\n      <td>Walls</td>\n      <td>Interior - 6 1/8\" Partition (2-hr)</td>\n      <td>NaN</td>\n    </tr>\n  </tbody>\n</table>\n</div>"
     },
     "metadata": {},
     "execution_count": 85
    }
   ],
   "source": [
    "dfSS = pd.DataFrame({\n",
    "    'Element Category': Element_category,\n",
    "    'Element Type': Element_type,\n",
    "    'Discipline': disciplines,\n",
    "})\n",
    "\n",
    "dfSS.head()"
   ]
  },
  {
   "cell_type": "code",
   "execution_count": 86,
   "id": "compatible-silly",
   "metadata": {},
   "outputs": [],
   "source": [
    "# getting unique values for clash priority and discipline\n",
    "\n",
    "cPrLi_unq = dfSS['Element Category'].unique().tolist()  # unique clash priority\n",
    "dispLi_unq = dfSS['Discipline'].unique().tolist()  # unique clash discipline"
   ]
  },
  {
   "cell_type": "code",
   "execution_count": 87,
   "id": "adolescent-smooth",
   "metadata": {},
   "outputs": [],
   "source": [
    "# # Above below can be used for generating clash test combinations \n",
    "# import itertools as it\n",
    "# y = [' vs '.join(val) for val in it.combinations(dispLi_unq, 2)]"
   ]
  },
  {
   "cell_type": "code",
   "execution_count": 88,
   "id": "appointed-wilderness",
   "metadata": {},
   "outputs": [],
   "source": [
    "# Setting the xml schema and generating the root\n",
    "\n",
    "qnmAtt = et.QName(\"http://www.w3.org/2001/XMLSchema-instance\", \"noNamespaceSchemaLocation\")\n",
    "\n",
    "ct_root = et.Element(\n",
    "    'exchange',\n",
    "    {qnmAtt: \"http://download.autodesk.com/us/navisworks/schemas/nw-exchange-12.0.xsd\"},\n",
    "    units=\"m\"\n",
    ")\n",
    "\n",
    "baTest = et.Element(\n",
    "    'batchtest', {\n",
    "        \"name\": FILE_NAME, \n",
    "        \"internal_name\": FILE_NAME, \n",
    "        \"units\": \"m\"\n",
    "        } \n",
    ")\n",
    "\n",
    "ct_root.append(baTest)"
   ]
  },
  {
   "cell_type": "code",
   "execution_count": 9,
   "id": "complete-crown",
   "metadata": {},
   "outputs": [
    {
     "output_type": "error",
     "ename": "NameError",
     "evalue": "name 'BaTest' is not defined",
     "traceback": [
      "\u001b[1;31m---------------------------------------------------------------------------\u001b[0m",
      "\u001b[1;31mNameError\u001b[0m                                 Traceback (most recent call last)",
      "\u001b[1;32m<ipython-input-9-72798b25daf1>\u001b[0m in \u001b[0;36m<module>\u001b[1;34m\u001b[0m\n\u001b[1;32m----> 1\u001b[1;33m \u001b[0mclashtests\u001b[0m \u001b[1;33m=\u001b[0m \u001b[0met\u001b[0m\u001b[1;33m.\u001b[0m\u001b[0mSubElement\u001b[0m\u001b[1;33m(\u001b[0m\u001b[0mBaTest\u001b[0m\u001b[1;33m,\u001b[0m \u001b[1;34m\"clashtests\"\u001b[0m\u001b[1;33m)\u001b[0m\u001b[1;33m\u001b[0m\u001b[1;33m\u001b[0m\u001b[0m\n\u001b[0m",
      "\u001b[1;31mNameError\u001b[0m: name 'BaTest' is not defined"
     ]
    }
   ],
   "source": [
    "clashtests = et.SubElement(baTest, \"clashtests\")"
   ]
  },
  {
   "cell_type": "code",
   "execution_count": 90,
   "id": "pleasant-produce",
   "metadata": {},
   "outputs": [],
   "source": [
    "# Generating clash test xml\n",
    "for idx_cT, cT in enumerate(clash_tests_names):\n",
    "    tT = clash_types[idx_cT]  # test type\n",
    "    cTl = clash_tols[idx_cT]  # tolerance\n",
    "    rLoc = rgt_loc[idx_cT]  # right locator\n",
    "    lLoc = lft_loc[idx_cT]  # left locator\n",
    "    clashtest = et.SubElement(\n",
    "        clashtests, \"clashtest\", {\n",
    "            \"name\": str(cT),\n",
    "            \"test_type\": str(tT),\n",
    "            \"status\": \"new\",\n",
    "            \"tolerance\": str(cTl),\n",
    "            \"merge_composites\": \"0\"\n",
    "        }\n",
    "    )\n",
    "\n",
    "    linkage = et.SubElement(\n",
    "        clashtest, \"linkage\", {\n",
    "            \"mode\": \"none\"\n",
    "        }\n",
    "    )  \n",
    "\n",
    "    left = et.SubElement(clashtest, \"left\")\n",
    "    # left children\n",
    "    clashselectionL = et.SubElement(\n",
    "        left, \"clashselection\", {\n",
    "            \"selfintersect\": \"0\",\n",
    "            \"primtypes\": \"1\" \n",
    "        }\n",
    "    )\n",
    "    # clashselection child (left locator)\n",
    "    lLocator = et.SubElement(clashselectionL, \"locator\")\n",
    "    lLocator.text = lLoc1\n",
    "\n",
    "    right = et.SubElement(clashtest, \"right\")  \n",
    "    # right children\n",
    "    clashselectionR = et.SubElement(\n",
    "        right, \"clashselection\", {\n",
    "            \"selfintersect\": \"0\",\n",
    "            \"primtypes\": \"1\" \n",
    "        }\n",
    "    )\n",
    "    # clashselection child (right locator)\n",
    "    rLocator = et.SubElement(clashselectionR, \"locator\")\n",
    "    rLocator.text = rLoc\n",
    "\n",
    "    rules = et.SubElement(clashtest, \"rules\")"
   ]
  },
  {
   "cell_type": "code",
   "execution_count": 91,
   "id": "classical-ready",
   "metadata": {},
   "outputs": [],
   "source": [
    "# ct_root[0].remove(ct_root[0][0])  #removing elements"
   ]
  },
  {
   "cell_type": "code",
   "execution_count": 92,
   "id": "planned-bolivia",
   "metadata": {},
   "outputs": [
    {
     "output_type": "stream",
     "name": "stdout",
     "text": [
      "238\n"
     ]
    }
   ],
   "source": [
    "print(len(ct_root[0][0]))\n",
    "# for e in ct_root[0][0]:\n",
    "#     print(e.tag)"
   ]
  },
  {
   "cell_type": "code",
   "execution_count": 93,
   "id": "proved-eight",
   "metadata": {
    "tags": [
     "outputPrepend"
    ]
   },
   "outputs": [
    {
     "output_type": "stream",
     "name": "stdout",
     "text": [
      "tree/nan/Walls-18\" Concrete</locator>\n          </clashselection>\n        </right>\n        <rules/>\n      </clashtest>\n      <clashtest name=\"W14X30_v_4 1/2” Soffit\" test_type=\"hard\" status=\"new\" tolerance=\"0.05\" merge_composites=\"0\">\n        <linkage mode=\"none\"/>\n        <left>\n          <clashselection selfintersect=\"0\" primtypes=\"1\">\n            <locator>lcop_selection_set_tree/STRUCTURE/Structural Framing-W14X30</locator>\n          </clashselection>\n        </left>\n        <right>\n          <clashselection selfintersect=\"0\" primtypes=\"1\">\n            <locator>lcop_selection_set_tree/nan/Walls-4 1/2” Soffit</locator>\n          </clashselection>\n        </right>\n        <rules/>\n      </clashtest>\n      <clashtest name=\"W14X30_v_84&quot; x 84&quot;\" test_type=\"hard\" status=\"new\" tolerance=\"0.1\" merge_composites=\"0\">\n        <linkage mode=\"none\"/>\n        <left>\n          <clashselection selfintersect=\"0\" primtypes=\"1\">\n            <locator>lcop_selection_set_tree/STRUCTURE/Structural Framing-W14X30</locator>\n          </clashselection>\n        </left>\n        <right>\n          <clashselection selfintersect=\"0\" primtypes=\"1\">\n            <locator>lcop_selection_set_tree/nan/Generic Models-84\" x 84\"</locator>\n          </clashselection>\n        </right>\n        <rules/>\n      </clashtest>\n      <clashtest name=\"W14X30_v_6&quot; Slab on Grade with 1&quot; Finish\" test_type=\"hard\" status=\"new\" tolerance=\"0.05\" merge_composites=\"0\">\n        <linkage mode=\"none\"/>\n        <left>\n          <clashselection selfintersect=\"0\" primtypes=\"1\">\n            <locator>lcop_selection_set_tree/STRUCTURE/Structural Framing-W14X30</locator>\n          </clashselection>\n        </left>\n        <right>\n          <clashselection selfintersect=\"0\" primtypes=\"1\">\n            <locator>lcop_selection_set_tree/STRUCTURE/Floors-6\" Slab on Grade with 1\" Finish</locator>\n          </clashselection>\n        </right>\n        <rules/>\n      </clashtest>\n      <clashtest name=\"W14X30_v_6&quot; Concrete with 1&quot; Terrazzo\" test_type=\"hard\" status=\"new\" tolerance=\"0.05\" merge_composites=\"0\">\n        <linkage mode=\"none\"/>\n        <left>\n          <clashselection selfintersect=\"0\" primtypes=\"1\">\n            <locator>lcop_selection_set_tree/STRUCTURE/Structural Framing-W14X30</locator>\n          </clashselection>\n        </left>\n        <right>\n          <clashselection selfintersect=\"0\" primtypes=\"1\">\n            <locator>lcop_selection_set_tree/STRUCTURE/Floors-6\" Concrete with 1\" Terrazzo</locator>\n          </clashselection>\n        </right>\n        <rules/>\n      </clashtest>\n      <clashtest name=\"W14X30_v_Exterior Concrete Slab\" test_type=\"hard\" status=\"new\" tolerance=\"0.1\" merge_composites=\"0\">\n        <linkage mode=\"none\"/>\n        <left>\n          <clashselection selfintersect=\"0\" primtypes=\"1\">\n            <locator>lcop_selection_set_tree/STRUCTURE/Structural Framing-W14X30</locator>\n          </clashselection>\n        </left>\n        <right>\n          <clashselection selfintersect=\"0\" primtypes=\"1\">\n            <locator>lcop_selection_set_tree/STRUCTURE/Floors-Exterior Concrete Slab</locator>\n          </clashselection>\n        </right>\n        <rules/>\n      </clashtest>\n      <clashtest name=\"W14X30_v_W14X30\" test_type=\"hard\" status=\"new\" tolerance=\"0.1\" merge_composites=\"0\">\n        <linkage mode=\"none\"/>\n        <left>\n          <clashselection selfintersect=\"0\" primtypes=\"1\">\n            <locator>lcop_selection_set_tree/STRUCTURE/Structural Framing-W14X30</locator>\n          </clashselection>\n        </left>\n        <right>\n          <clashselection selfintersect=\"0\" primtypes=\"1\">\n            <locator>lcop_selection_set_tree/STRUCTURE/Structural Framing-W14X30</locator>\n          </clashselection>\n        </right>\n        <rules/>\n      </clashtest>\n      <clashtest name=\"W12X26_v_72&quot; x 84&quot;\" test_type=\"hard\" status=\"new\" tolerance=\"0.05\" merge_composites=\"0\">\n        <linkage mode=\"none\"/>\n        <left>\n          <clashselection selfintersect=\"0\" primtypes=\"1\">\n            <locator>lcop_selection_set_tree/STRUCTURE/Structural Framing-W12X26</locator>\n          </clashselection>\n        </left>\n        <right>\n          <clashselection selfintersect=\"0\" primtypes=\"1\">\n            <locator>lcop_selection_set_tree/nan/nan-72\" x 84\"</locator>\n          </clashselection>\n        </right>\n        <rules/>\n      </clashtest>\n      <clashtest name=\"W12X26_v_Exterior - Brick and CMU on MTL. Stud\" test_type=\"hard\" status=\"new\" tolerance=\"0.05\" merge_composites=\"0\">\n        <linkage mode=\"none\"/>\n        <left>\n          <clashselection selfintersect=\"0\" primtypes=\"1\">\n            <locator>lcop_selection_set_tree/STRUCTURE/Structural Framing-W12X26</locator>\n          </clashselection>\n        </left>\n        <right>\n          <clashselection selfintersect=\"0\" primtypes=\"1\">\n            <locator>lcop_selection_set_tree/nan/Walls-Exterior - Brick and CMU on MTL. Stud</locator>\n          </clashselection>\n        </right>\n        <rules/>\n      </clashtest>\n      <clashtest name=\"W12X26_v_Exterior - Brick and CMU on MTL. Stud (No Parapet)\" test_type=\"hard\" status=\"new\" tolerance=\"0.05\" merge_composites=\"0\">\n        <linkage mode=\"none\"/>\n        <left>\n          <clashselection selfintersect=\"0\" primtypes=\"1\">\n            <locator>lcop_selection_set_tree/STRUCTURE/Structural Framing-W12X26</locator>\n          </clashselection>\n        </left>\n        <right>\n          <clashselection selfintersect=\"0\" primtypes=\"1\">\n            <locator>lcop_selection_set_tree/nan/Walls-Exterior - Brick and CMU on MTL. Stud (No Parapet)</locator>\n          </clashselection>\n        </right>\n        <rules/>\n      </clashtest>\n      <clashtest name=\"W12X26_v_Generic - 8&quot; Masonry\" test_type=\"hard\" status=\"new\" tolerance=\"0.05\" merge_composites=\"0\">\n        <linkage mode=\"none\"/>\n        <left>\n          <clashselection selfintersect=\"0\" primtypes=\"1\">\n            <locator>lcop_selection_set_tree/STRUCTURE/Structural Framing-W12X26</locator>\n          </clashselection>\n        </left>\n        <right>\n          <clashselection selfintersect=\"0\" primtypes=\"1\">\n            <locator>lcop_selection_set_tree/nan/Walls-Generic - 8\" Masonry</locator>\n          </clashselection>\n        </right>\n        <rules/>\n      </clashtest>\n      <clashtest name=\"W12X26_v_Interior - 6 1/8&quot; Partition (2-hr)\" test_type=\"hard\" status=\"new\" tolerance=\"0.05\" merge_composites=\"0\">\n        <linkage mode=\"none\"/>\n        <left>\n          <clashselection selfintersect=\"0\" primtypes=\"1\">\n            <locator>lcop_selection_set_tree/STRUCTURE/Structural Framing-W12X26</locator>\n          </clashselection>\n        </left>\n        <right>\n          <clashselection selfintersect=\"0\" primtypes=\"1\">\n            <locator>lcop_selection_set_tree/nan/Walls-Interior - 6 1/8\" Partition (2-hr)</locator>\n          </clashselection>\n        </right>\n        <rules/>\n      </clashtest>\n      <clashtest name=\"W12X26_v_18&quot; Concrete\" test_type=\"hard\" status=\"new\" tolerance=\"0.05\" merge_composites=\"0\">\n        <linkage mode=\"none\"/>\n        <left>\n          <clashselection selfintersect=\"0\" primtypes=\"1\">\n            <locator>lcop_selection_set_tree/STRUCTURE/Structural Framing-W12X26</locator>\n          </clashselection>\n        </left>\n        <right>\n          <clashselection selfintersect=\"0\" primtypes=\"1\">\n            <locator>lcop_selection_set_tree/nan/Walls-18\" Concrete</locator>\n          </clashselection>\n        </right>\n        <rules/>\n      </clashtest>\n      <clashtest name=\"W12X26_v_4 1/2” Soffit\" test_type=\"hard\" status=\"new\" tolerance=\"0.05\" merge_composites=\"0\">\n        <linkage mode=\"none\"/>\n        <left>\n          <clashselection selfintersect=\"0\" primtypes=\"1\">\n            <locator>lcop_selection_set_tree/STRUCTURE/Structural Framing-W12X26</locator>\n          </clashselection>\n        </left>\n        <right>\n          <clashselection selfintersect=\"0\" primtypes=\"1\">\n            <locator>lcop_selection_set_tree/nan/Walls-4 1/2” Soffit</locator>\n          </clashselection>\n        </right>\n        <rules/>\n      </clashtest>\n      <clashtest name=\"W12X26_v_84&quot; x 84&quot;\" test_type=\"hard\" status=\"new\" tolerance=\"0.1\" merge_composites=\"0\">\n        <linkage mode=\"none\"/>\n        <left>\n          <clashselection selfintersect=\"0\" primtypes=\"1\">\n            <locator>lcop_selection_set_tree/STRUCTURE/Structural Framing-W12X26</locator>\n          </clashselection>\n        </left>\n        <right>\n          <clashselection selfintersect=\"0\" primtypes=\"1\">\n            <locator>lcop_selection_set_tree/nan/Generic Models-84\" x 84\"</locator>\n          </clashselection>\n        </right>\n        <rules/>\n      </clashtest>\n      <clashtest name=\"W12X26_v_6&quot; Slab on Grade with 1&quot; Finish\" test_type=\"hard\" status=\"new\" tolerance=\"0.05\" merge_composites=\"0\">\n        <linkage mode=\"none\"/>\n        <left>\n          <clashselection selfintersect=\"0\" primtypes=\"1\">\n            <locator>lcop_selection_set_tree/STRUCTURE/Structural Framing-W12X26</locator>\n          </clashselection>\n        </left>\n        <right>\n          <clashselection selfintersect=\"0\" primtypes=\"1\">\n            <locator>lcop_selection_set_tree/STRUCTURE/Floors-6\" Slab on Grade with 1\" Finish</locator>\n          </clashselection>\n        </right>\n        <rules/>\n      </clashtest>\n      <clashtest name=\"W12X26_v_6&quot; Concrete with 1&quot; Terrazzo\" test_type=\"hard\" status=\"new\" tolerance=\"0.05\" merge_composites=\"0\">\n        <linkage mode=\"none\"/>\n        <left>\n          <clashselection selfintersect=\"0\" primtypes=\"1\">\n            <locator>lcop_selection_set_tree/STRUCTURE/Structural Framing-W12X26</locator>\n          </clashselection>\n        </left>\n        <right>\n          <clashselection selfintersect=\"0\" primtypes=\"1\">\n            <locator>lcop_selection_set_tree/STRUCTURE/Floors-6\" Concrete with 1\" Terrazzo</locator>\n          </clashselection>\n        </right>\n        <rules/>\n      </clashtest>\n      <clashtest name=\"W12X26_v_Exterior Concrete Slab\" test_type=\"hard\" status=\"new\" tolerance=\"0.1\" merge_composites=\"0\">\n        <linkage mode=\"none\"/>\n        <left>\n          <clashselection selfintersect=\"0\" primtypes=\"1\">\n            <locator>lcop_selection_set_tree/STRUCTURE/Structural Framing-W12X26</locator>\n          </clashselection>\n        </left>\n        <right>\n          <clashselection selfintersect=\"0\" primtypes=\"1\">\n            <locator>lcop_selection_set_tree/STRUCTURE/Floors-Exterior Concrete Slab</locator>\n          </clashselection>\n        </right>\n        <rules/>\n      </clashtest>\n      <clashtest name=\"W12X26_v_W14X30\" test_type=\"hard\" status=\"new\" tolerance=\"0.1\" merge_composites=\"0\">\n        <linkage mode=\"none\"/>\n        <left>\n          <clashselection selfintersect=\"0\" primtypes=\"1\">\n            <locator>lcop_selection_set_tree/STRUCTURE/Structural Framing-W12X26</locator>\n          </clashselection>\n        </left>\n        <right>\n          <clashselection selfintersect=\"0\" primtypes=\"1\">\n            <locator>lcop_selection_set_tree/STRUCTURE/Structural Framing-W14X30</locator>\n          </clashselection>\n        </right>\n        <rules/>\n      </clashtest>\n      <clashtest name=\"HSS6X6X5/8_v_72&quot; x 84&quot;\" test_type=\"hard\" status=\"new\" tolerance=\"0.05\" merge_composites=\"0\">\n        <linkage mode=\"none\"/>\n        <left>\n          <clashselection selfintersect=\"0\" primtypes=\"1\">\n            <locator>lcop_selection_set_tree/STRUCTURE/Structural Columns-HSS6X6X5/8</locator>\n          </clashselection>\n        </left>\n        <right>\n          <clashselection selfintersect=\"0\" primtypes=\"1\">\n            <locator>lcop_selection_set_tree/nan/nan-72\" x 84\"</locator>\n          </clashselection>\n        </right>\n        <rules/>\n      </clashtest>\n      <clashtest name=\"HSS6X6X5/8_v_Exterior - Brick and CMU on MTL. Stud\" test_type=\"hard\" status=\"new\" tolerance=\"0.05\" merge_composites=\"0\">\n        <linkage mode=\"none\"/>\n        <left>\n          <clashselection selfintersect=\"0\" primtypes=\"1\">\n            <locator>lcop_selection_set_tree/STRUCTURE/Structural Columns-HSS6X6X5/8</locator>\n          </clashselection>\n        </left>\n        <right>\n          <clashselection selfintersect=\"0\" primtypes=\"1\">\n            <locator>lcop_selection_set_tree/nan/Walls-Exterior - Brick and CMU on MTL. Stud</locator>\n          </clashselection>\n        </right>\n        <rules/>\n      </clashtest>\n      <clashtest name=\"HSS6X6X5/8_v_Exterior - Brick and CMU on MTL. Stud (No Parapet)\" test_type=\"hard\" status=\"new\" tolerance=\"0.05\" merge_composites=\"0\">\n        <linkage mode=\"none\"/>\n        <left>\n          <clashselection selfintersect=\"0\" primtypes=\"1\">\n            <locator>lcop_selection_set_tree/STRUCTURE/Structural Columns-HSS6X6X5/8</locator>\n          </clashselection>\n        </left>\n        <right>\n          <clashselection selfintersect=\"0\" primtypes=\"1\">\n            <locator>lcop_selection_set_tree/nan/Walls-Exterior - Brick and CMU on MTL. Stud (No Parapet)</locator>\n          </clashselection>\n        </right>\n        <rules/>\n      </clashtest>\n      <clashtest name=\"HSS6X6X5/8_v_Generic - 8&quot; Masonry\" test_type=\"hard\" status=\"new\" tolerance=\"0.05\" merge_composites=\"0\">\n        <linkage mode=\"none\"/>\n        <left>\n          <clashselection selfintersect=\"0\" primtypes=\"1\">\n            <locator>lcop_selection_set_tree/STRUCTURE/Structural Columns-HSS6X6X5/8</locator>\n          </clashselection>\n        </left>\n        <right>\n          <clashselection selfintersect=\"0\" primtypes=\"1\">\n            <locator>lcop_selection_set_tree/nan/Walls-Generic - 8\" Masonry</locator>\n          </clashselection>\n        </right>\n        <rules/>\n      </clashtest>\n      <clashtest name=\"HSS6X6X5/8_v_Interior - 6 1/8&quot; Partition (2-hr)\" test_type=\"hard\" status=\"new\" tolerance=\"0.05\" merge_composites=\"0\">\n        <linkage mode=\"none\"/>\n        <left>\n          <clashselection selfintersect=\"0\" primtypes=\"1\">\n            <locator>lcop_selection_set_tree/STRUCTURE/Structural Columns-HSS6X6X5/8</locator>\n          </clashselection>\n        </left>\n        <right>\n          <clashselection selfintersect=\"0\" primtypes=\"1\">\n            <locator>lcop_selection_set_tree/nan/Walls-Interior - 6 1/8\" Partition (2-hr)</locator>\n          </clashselection>\n        </right>\n        <rules/>\n      </clashtest>\n      <clashtest name=\"HSS6X6X5/8_v_18&quot; Concrete\" test_type=\"hard\" status=\"new\" tolerance=\"0.05\" merge_composites=\"0\">\n        <linkage mode=\"none\"/>\n        <left>\n          <clashselection selfintersect=\"0\" primtypes=\"1\">\n            <locator>lcop_selection_set_tree/STRUCTURE/Structural Columns-HSS6X6X5/8</locator>\n          </clashselection>\n        </left>\n        <right>\n          <clashselection selfintersect=\"0\" primtypes=\"1\">\n            <locator>lcop_selection_set_tree/nan/Walls-18\" Concrete</locator>\n          </clashselection>\n        </right>\n        <rules/>\n      </clashtest>\n      <clashtest name=\"HSS6X6X5/8_v_4 1/2” Soffit\" test_type=\"hard\" status=\"new\" tolerance=\"0.05\" merge_composites=\"0\">\n        <linkage mode=\"none\"/>\n        <left>\n          <clashselection selfintersect=\"0\" primtypes=\"1\">\n            <locator>lcop_selection_set_tree/STRUCTURE/Structural Columns-HSS6X6X5/8</locator>\n          </clashselection>\n        </left>\n        <right>\n          <clashselection selfintersect=\"0\" primtypes=\"1\">\n            <locator>lcop_selection_set_tree/nan/Walls-4 1/2” Soffit</locator>\n          </clashselection>\n        </right>\n        <rules/>\n      </clashtest>\n      <clashtest name=\"HSS6X6X5/8_v_84&quot; x 84&quot;\" test_type=\"hard\" status=\"new\" tolerance=\"0.1\" merge_composites=\"0\">\n        <linkage mode=\"none\"/>\n        <left>\n          <clashselection selfintersect=\"0\" primtypes=\"1\">\n            <locator>lcop_selection_set_tree/STRUCTURE/Structural Columns-HSS6X6X5/8</locator>\n          </clashselection>\n        </left>\n        <right>\n          <clashselection selfintersect=\"0\" primtypes=\"1\">\n            <locator>lcop_selection_set_tree/nan/Generic Models-84\" x 84\"</locator>\n          </clashselection>\n        </right>\n        <rules/>\n      </clashtest>\n      <clashtest name=\"HSS6X6X5/8_v_4'-0&quot; Length\" test_type=\"hard\" status=\"new\" tolerance=\"0.1\" merge_composites=\"0\">\n        <linkage mode=\"none\"/>\n        <left>\n          <clashselection selfintersect=\"0\" primtypes=\"1\">\n            <locator>lcop_selection_set_tree/STRUCTURE/Structural Columns-HSS6X6X5/8</locator>\n          </clashselection>\n        </left>\n        <right>\n          <clashselection selfintersect=\"0\" primtypes=\"1\">\n            <locator>lcop_selection_set_tree/nan/Generic Models-4'-0\" Length</locator>\n          </clashselection>\n        </right>\n        <rules/>\n      </clashtest>\n      <clashtest name=\"HSS6X6X5/8_v_6&quot; Slab on Grade with 1&quot; Finish\" test_type=\"hard\" status=\"new\" tolerance=\"0.05\" merge_composites=\"0\">\n        <linkage mode=\"none\"/>\n        <left>\n          <clashselection selfintersect=\"0\" primtypes=\"1\">\n            <locator>lcop_selection_set_tree/STRUCTURE/Structural Columns-HSS6X6X5/8</locator>\n          </clashselection>\n        </left>\n        <right>\n          <clashselection selfintersect=\"0\" primtypes=\"1\">\n            <locator>lcop_selection_set_tree/STRUCTURE/Floors-6\" Slab on Grade with 1\" Finish</locator>\n          </clashselection>\n        </right>\n        <rules/>\n      </clashtest>\n      <clashtest name=\"HSS6X6X5/8_v_6&quot; Concrete with 1&quot; Terrazzo\" test_type=\"hard\" status=\"new\" tolerance=\"0.05\" merge_composites=\"0\">\n        <linkage mode=\"none\"/>\n        <left>\n          <clashselection selfintersect=\"0\" primtypes=\"1\">\n            <locator>lcop_selection_set_tree/STRUCTURE/Structural Columns-HSS6X6X5/8</locator>\n          </clashselection>\n        </left>\n        <right>\n          <clashselection selfintersect=\"0\" primtypes=\"1\">\n            <locator>lcop_selection_set_tree/STRUCTURE/Floors-6\" Concrete with 1\" Terrazzo</locator>\n          </clashselection>\n        </right>\n        <rules/>\n      </clashtest>\n      <clashtest name=\"HSS6X6X5/8_v_Exterior Concrete Slab\" test_type=\"hard\" status=\"new\" tolerance=\"0.1\" merge_composites=\"0\">\n        <linkage mode=\"none\"/>\n        <left>\n          <clashselection selfintersect=\"0\" primtypes=\"1\">\n            <locator>lcop_selection_set_tree/STRUCTURE/Structural Columns-HSS6X6X5/8</locator>\n          </clashselection>\n        </left>\n        <right>\n          <clashselection selfintersect=\"0\" primtypes=\"1\">\n            <locator>lcop_selection_set_tree/STRUCTURE/Floors-Exterior Concrete Slab</locator>\n          </clashselection>\n        </right>\n        <rules/>\n      </clashtest>\n      <clashtest name=\"HSS6X6X5/8_v_W14X30\" test_type=\"hard\" status=\"new\" tolerance=\"0.1\" merge_composites=\"0\">\n        <linkage mode=\"none\"/>\n        <left>\n          <clashselection selfintersect=\"0\" primtypes=\"1\">\n            <locator>lcop_selection_set_tree/STRUCTURE/Structural Columns-HSS6X6X5/8</locator>\n          </clashselection>\n        </left>\n        <right>\n          <clashselection selfintersect=\"0\" primtypes=\"1\">\n            <locator>lcop_selection_set_tree/STRUCTURE/Structural Framing-W14X30</locator>\n          </clashselection>\n        </right>\n        <rules/>\n      </clashtest>\n      <clashtest name=\"HSS6X6X5/8_v_W12X26\" test_type=\"hard\" status=\"new\" tolerance=\"0.1\" merge_composites=\"0\">\n        <linkage mode=\"none\"/>\n        <left>\n          <clashselection selfintersect=\"0\" primtypes=\"1\">\n            <locator>lcop_selection_set_tree/STRUCTURE/Structural Columns-HSS6X6X5/8</locator>\n          </clashselection>\n        </left>\n        <right>\n          <clashselection selfintersect=\"0\" primtypes=\"1\">\n            <locator>lcop_selection_set_tree/STRUCTURE/Structural Framing-W12X26</locator>\n          </clashselection>\n        </right>\n        <rules/>\n      </clashtest>\n    </clashtests>\n  </batchtest>\n</exchange>\n\n"
     ]
    }
   ],
   "source": [
    "print(et.tostring(ct_root, pretty_print=True, encoding=\"UTF-8\", xml_declaration=True).decode('utf-8'))"
   ]
  },
  {
   "cell_type": "code",
   "execution_count": 94,
   "id": "uniform-sentence",
   "metadata": {},
   "outputs": [],
   "source": [
    "selectionsets = et.SubElement(baTest, 'selectionsets')"
   ]
  },
  {
   "cell_type": "code",
   "execution_count": 95,
   "id": "cosmetic-dependence",
   "metadata": {},
   "outputs": [],
   "source": [
    "# Creating and appending all viewfolders based on discipline, to selectionsets\n",
    "for disp in dispLi_unq:\n",
    "    viewfolder = et.SubElement(\n",
    "        selectionsets, 'viewfolder', {\n",
    "            \"name\": str(disp),\n",
    "            \"guid\": str(uuid.uuid4())\n",
    "        }\n",
    "    )"
   ]
  },
  {
   "cell_type": "code",
   "execution_count": 96,
   "id": "round-special",
   "metadata": {},
   "outputs": [],
   "source": [
    "# Generating all selectionsets\n",
    "for disp in dispLi_unq:\n",
    "    vwFr = ct_root.find(f'.//viewfolder[@name=\"{disp}\"]')\n",
    "    for row in dfSS.itertuples(index=False, name=None):  # enumerate not required\n",
    "        if row[2] == disp:\n",
    "            # Constructing the selectionset name\n",
    "            ssCon = [row[0], row[1]]\n",
    "            ssName = '-'.join(ssCon)\n",
    "            # Creating and appending selectionsets \n",
    "            selectionset = et.SubElement(\n",
    "                vwFr, 'selectionset', {\n",
    "                    \"name\": str(ssName),\n",
    "                    \"guid\": str(uuid.uuid4())\n",
    "                }\n",
    "            )\n",
    "            \n",
    "            findspec = et.SubElement(\n",
    "                selectionset, 'findspec', {\n",
    "                    \"mode\": \"all\",\n",
    "                    \"disjoint\": \"0\"\n",
    "                }\n",
    "            )\n",
    "\n",
    "            conditions = et.SubElement(findspec, 'conditions')\n",
    "\n",
    "            locator = et.SubElement(findspec, 'locator')\n",
    "            locator.text = \"/\"\n",
    "\n",
    "            # conditions children\n",
    "            condition1 = et.SubElement(\n",
    "                conditions, 'condition', {\n",
    "                    \"test\": \"contains\",\n",
    "                    \"flags\": \"10\"\n",
    "                }\n",
    "            )\n",
    "\n",
    "            category1 = et.SubElement(condition1, 'category')\n",
    "\n",
    "            nmCt1 = et.SubElement(\n",
    "                category1, 'name', {\n",
    "                    \"internal\": \"AecDbPropertySet\"\n",
    "                }\n",
    "            ) \n",
    "            nmCt1.text = \"Element\"\n",
    "\n",
    "            prop1 = et.SubElement(condition1, 'property')\n",
    "\n",
    "            nmPp1 = et.SubElement(\n",
    "                prop1, 'name', {\n",
    "                    \"internal\": \"1\"\n",
    "                }\n",
    "            ) \n",
    "            nmPp1.text = \"Category\"\n",
    "\n",
    "            value1 = et.SubElement(condition1, 'value')\n",
    "\n",
    "            data1 = et.SubElement(\n",
    "                value1, \"data\", {\n",
    "                    \"type\": \"wstring\"\n",
    "                }\n",
    "            )\n",
    "            data1.text = str(row[0])\n",
    "\n",
    "            # second condition\n",
    "            condition2 = et.SubElement(\n",
    "                conditions, 'condition', {\n",
    "                    \"test\": \"contains\",\n",
    "                    \"flags\": \"10\"\n",
    "                }\n",
    "            )\n",
    "\n",
    "            category2 = et.SubElement(condition2, 'category')\n",
    "\n",
    "            nmCt2 = et.SubElement(\n",
    "                category2, 'name', {\n",
    "                    \"internal\": \"AecDbPropertySet\"\n",
    "                }\n",
    "            ) \n",
    "            nmCt2.text = \"Element\"\n",
    "\n",
    "            prop2 = et.SubElement(condition2, 'property')\n",
    "\n",
    "            nmPp2 = et.SubElement(\n",
    "                prop2, 'name', {\n",
    "                    \"internal\": \"3\"\n",
    "                }\n",
    "            ) \n",
    "            nmPp2.text = \"Type\"\n",
    "\n",
    "            value2 = et.SubElement(condition2, 'value')\n",
    "\n",
    "            data2 = et.SubElement(\n",
    "                value2, \"data\", {\n",
    "                    \"type\": \"wstring\"\n",
    "                }\n",
    "            )\n",
    "            data2.text = str(row[1])\n",
    "        else:\n",
    "            pass"
   ]
  },
  {
   "cell_type": "code",
   "execution_count": 97,
   "id": "organized-determination",
   "metadata": {},
   "outputs": [
    {
     "output_type": "stream",
     "name": "stdout",
     "text": [
      "<viewfolder xmlns:xsi=\"http://www.w3.org/2001/XMLSchema-instance\" name=\"nan\" guid=\"a791f0c2-a571-4186-a251-2092405d3aa9\"/>\n\n"
     ]
    }
   ],
   "source": [
    "# code below searches for the first viewfolder then shows its xml structure\n",
    "vwFr_all = ct_root.find('.//viewfolder')\n",
    "print(et.tostring(vwFr_all, pretty_print=True).decode('utf-8'))"
   ]
  },
  {
   "cell_type": "code",
   "execution_count": 98,
   "id": "closing-enough",
   "metadata": {},
   "outputs": [],
   "source": [
    "# # handy code for searching for, and deleting elements.\n",
    "# # use elementnamexxx.attrib['nameofattrib'] = 'newnameofattrib' to change element attributes.\n",
    "# # https://stackoverflow.com/questions/8171146/python-lxml-modify-attributes\n",
    "# vfSch = ct_root.find('.//viewfolder[@name=\"SL\"]')   # search based on attribute\n",
    "\n",
    "# deLE = ct_root.find('.//testttt')\n",
    "\n",
    "# deLE.getparent().remove(deLE)\n",
    "\n",
    "# print(et.tostring(vfSch, pretty_print=True).decode('utf-8'))"
   ]
  },
  {
   "cell_type": "code",
   "execution_count": 99,
   "id": "distinct-mouse",
   "metadata": {},
   "outputs": [],
   "source": [
    "ctData = et.tostring(ct_root, pretty_print=True, encoding=\"UTF-8\", xml_declaration=True)"
   ]
  },
  {
   "cell_type": "code",
   "execution_count": 100,
   "id": "popular-enlargement",
   "metadata": {},
   "outputs": [],
   "source": [
    "with open(f\"{FILE_NAME}.xml\", \"wb\") as nfXML:\n",
    "    nfXML.write(ctData)"
   ]
  },
  {
   "cell_type": "code",
   "execution_count": null,
   "id": "realistic-campbell",
   "metadata": {},
   "outputs": [],
   "source": []
  },
  {
   "cell_type": "code",
   "execution_count": null,
   "id": "statistical-temperature",
   "metadata": {},
   "outputs": [],
   "source": []
  }
 ],
 "metadata": {
  "kernelspec": {
   "name": "python3",
   "display_name": "Python 3.8.5 32-bit",
   "metadata": {
    "interpreter": {
     "hash": "4af90f45c7792a747df031fcfb3e75fbadd5ecde1f96328d33556550aaa66aac"
    }
   }
  },
  "language_info": {
   "codemirror_mode": {
    "name": "ipython",
    "version": 3
   },
   "file_extension": ".py",
   "mimetype": "text/x-python",
   "name": "python",
   "nbconvert_exporter": "python",
   "pygments_lexer": "ipython3",
   "version": "3.8.5"
  }
 },
 "nbformat": 4,
 "nbformat_minor": 5
}